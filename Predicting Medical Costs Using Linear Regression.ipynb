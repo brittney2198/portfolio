{
 "cells": [
  {
   "cell_type": "markdown",
   "metadata": {},
   "source": [
    "# Predicting Medical Costs Using Linear Regression \n",
    "\n",
    "We have a dataset of various patient demographic information and their associated medical charges. We are going to use this dataset to determine which patients are likely to have a higher cost. This can help inform hospitals and various healthcare organizations about how to better manage staff and forecast revenue. "
   ]
  },
  {
   "cell_type": "code",
   "execution_count": 1,
   "metadata": {},
   "outputs": [],
   "source": [
    "#Importing relevant packages \n",
    "\n",
    "import pandas as pd \n",
    "import numpy as np \n",
    "from sklearn.linear_model import LinearRegression\n",
    "from sklearn.metrics import mean_squared_error, r2_score\n",
    "from sklearn.model_selection import train_test_split \n",
    "import matplotlib.pyplot as plt\n",
    "import seaborn as sns"
   ]
  },
  {
   "cell_type": "code",
   "execution_count": 2,
   "metadata": {},
   "outputs": [
    {
     "name": "stdout",
     "output_type": "stream",
     "text": [
      "   age     sex     bmi  children smoker     region      charges\n",
      "0   19  female  27.900         0    yes  southwest  16884.92400\n",
      "1   18    male  33.770         1     no  southeast   1725.55230\n",
      "2   28    male  33.000         3     no  southeast   4449.46200\n",
      "3   33    male  22.705         0     no  northwest  21984.47061\n",
      "4   32    male  28.880         0     no  northwest   3866.85520 \n",
      "\n",
      "Number of features: 7 \n",
      "\n",
      "Number of observations: 1338 \n",
      "\n",
      "age           int64\n",
      "sex          object\n",
      "bmi         float64\n",
      "children      int64\n",
      "smoker       object\n",
      "region       object\n",
      "charges     float64\n",
      "dtype: object \n",
      "\n",
      "age         0\n",
      "sex         0\n",
      "bmi         0\n",
      "children    0\n",
      "smoker      0\n",
      "region      0\n",
      "charges     0\n",
      "dtype: int64\n"
     ]
    }
   ],
   "source": [
    "#Read package into df \n",
    "insurance = pd.read_csv('insurance.csv')\n",
    "\n",
    "#Quick exploratory analysis of dataset \n",
    "print(insurance.head(), '\\n')\n",
    "print(f'Number of features: {insurance.shape[1]}','\\n')\n",
    "print(f'Number of observations: {insurance.shape[0]}','\\n')\n",
    "print(insurance.dtypes, '\\n')\n",
    "print(insurance.isna().sum())"
   ]
  },
  {
   "cell_type": "markdown",
   "metadata": {},
   "source": [
    "In this dataset, we have 7 total features: 6 features that we can choose from for our predictor and our outcome variable, charges. Three of the predictor variables are categorical while the other three are continuous. We also do not have any missing values."
   ]
  },
  {
   "cell_type": "markdown",
   "metadata": {},
   "source": [
    "## Data Visualization \n",
    "\n",
    "We are going to create a simple histogram for our data to understand the shape and potential skew of our data. "
   ]
  },
  {
   "cell_type": "markdown",
   "metadata": {},
   "source": [
    "#### Histogram"
   ]
  },
  {
   "cell_type": "code",
   "execution_count": 3,
   "metadata": {},
   "outputs": [
    {
     "data": {
      "image/png": "[encoded data removed]",
      "text/plain": [
       "<Figure size 640x480 with 1 Axes>"
      ]
     },
     "metadata": {},
     "output_type": "display_data"
    }
   ],
   "source": [
    "insurance.hist('charges')\n",
    "plt.show()"
   ]
  },
  {
   "cell_type": "markdown",
   "metadata": {},
   "source": [
    "We see that our data is skewed right with most charges distributed from 0-10000 and fewer values at high charge values. Because we have a skewed model, we are going to tranform our outcome variable charges, using a log function. This log function will reduce the impact of extreme values by compressing the range of the data. We want to avoid having extreme values in our dataset because extreme values can cause heteroscedasticity, where the variance of the errors is not constant across levels of the independent variable. A log transformation can stabilize the variance, making the data more suitable for linear modeling techniques that assume homoscedasticity (constant variance). "
   ]
  },
  {
   "cell_type": "code",
   "execution_count": 4,
   "metadata": {},
   "outputs": [
    {
     "data": {
      "image/png": "[encoded data removed]",
      "text/plain": [
       "<Figure size 640x480 with 1 Axes>"
      ]
     },
     "metadata": {},
     "output_type": "display_data"
    }
   ],
   "source": [
    "insurance['log'] = np.log2(insurance['charges'])\n",
    "insurance.hist('log')\n",
    "plt.show()"
   ]
  },
  {
   "cell_type": "markdown",
   "metadata": {},
   "source": [
    "Now we see that our data has a normal distribution which is what we want to observe before applying a linear model. \n",
    "\n",
    "#### Heatmap \n",
    "\n",
    "Before we apply our linear model, we want to choose our predictor(s). We are going to create dummy variables for our categorical variables and drop the first column to prevent potential multicollinearity."
   ]
  },
  {
   "cell_type": "code",
   "execution_count": null,
   "metadata": {},
   "outputs": [],
   "source": [
    "insurance_dummy = pd.get_dummies(insurance, columns = ['sex', 'smoker', 'region'], drop_first = True)\n",
    "\n",
    "\n",
    "#Observing any strong correlations\n",
    "fig, axes = plt.subplots(figsize=(16,10))\n",
    "insurance_corr = insurance_dummy.corr()\n",
    "sns.heatmap(insurance_corr, cmap=\"coolwarm\", annot = True)\n",
    "plt.title(\"Insurance Correlation\", fontsize=10)\n",
    "plt.tight_layout()\n",
    "plt.show()"
   ]
  },
  {
   "cell_type": "markdown",
   "metadata": {},
   "source": [
    "Because we did a log transformation on our charges variable, we are seeking variables that have a positive correlation with our log transformed variable. This is because the log charges will be the variable that is used in our model and we want to ensure consistency when evaluating possible relationships. \n",
    "\n",
    "The variables that have the highest positive correlation with the log transformation of charges is age, smoking, and potential children. Now that we have our predictors, we are ready to set up our model. \n",
    "\n",
    "## Linear Model "
   ]
  },
  {
   "cell_type": "code",
   "execution_count": null,
   "metadata": {},
   "outputs": [],
   "source": [
    "#Setting up features and target \n",
    "X = insurance_dummy[['age', 'smoker_yes', 'children']]\n",
    "y = insurance_dummy['log'] \n",
    "\n",
    "#Splitting our dataset into training and testing\n",
    "X_train, X_test, y_train, y_test = train_test_split(X, y, test_size = 0.20, random_state = 42)"
   ]
  },
  {
   "cell_type": "code",
   "execution_count": null,
   "metadata": {},
   "outputs": [],
   "source": [
    "#Instantiating a linear regression model \n",
    "model = LinearRegression()\n",
    "\n",
    "#Fitting our model to the training data \n",
    "model.fit(X_train, y_train) \n",
    "\n",
    "#Predicting target values based off of model \n",
    "prediction = model.predict(X_train)"
   ]
  },
  {
   "cell_type": "code",
   "execution_count": null,
   "metadata": {
    "tags": []
   },
   "outputs": [],
   "source": [
    "#Evaluating MSE and RMSE of training model \n",
    "\n",
    "print('Intercept =', model.intercept_)\n",
    "\n",
    "#MSE and RMSE on Log Scale \n",
    "print('Root Mean squared error on log scale =', mean_squared_error(y_train, prediction, squared=False))\n",
    "print('Mean squared error on log scale =', mean_squared_error(y_train, prediction))\n",
    "\n",
    "#MSE and RMSE on Original Scale \n",
    "print('Root Mean squared error on original scale =', np.exp(mean_squared_error(y_train, prediction, squared=False)))\n",
    "print('Mean squared error on original scale =', np.exp(mean_squared_error(y_train, prediction)))\n",
    "\n",
    "print('R squared =', r2_score(y_train, prediction))"
   ]
  },
  {
   "cell_type": "markdown",
   "metadata": {},
   "source": [
    "75% of the variability of hospital charges is explained by age, smoking, and having children in the regression model.\n",
    "\n",
    "We are now going to plot our predicted values that we found based off the training model and see if there is a trend. We expect to see an even distribution that is centered around zero. \n"
   ]
  },
  {
   "cell_type": "code",
   "execution_count": null,
   "metadata": {},
   "outputs": [],
   "source": [
    "residual = y_train - prediction \n",
    "plt.figure(figsize=(10,10))\n",
    "plt.scatter(prediction, residual)\n",
    "plt.xlabel(\"Prediction\")\n",
    "plt.ylabel(\"Residual\")\n",
    "plt.title(\"Residual Plot\")\n",
    "plt.show()"
   ]
  },
  {
   "cell_type": "markdown",
   "metadata": {},
   "source": [
    "From the shape of this plot, we see a negative correlation where as values get larger, the residuals get smaller. "
   ]
  },
  {
   "cell_type": "code",
   "execution_count": null,
   "metadata": {},
   "outputs": [],
   "source": [
    "print('Coefficient on log scale =', model.coef_)\n",
    "print('Coefficient on original scale =', np.exp(model.coef_))"
   ]
  },
  {
   "cell_type": "markdown",
   "metadata": {},
   "source": [
    "From our model we see the coefficient for age, smoking and children are 0.05, 2.22 and 0.13 respectively. This means that on the original scale: \n",
    "- For a 1 unit increase in age, we expect an increase of hospital charges by 5.1%, holding smoking and having children constant. \n",
    "- For a 1 unit increase in smoking, we expect an increase of hospital charges by 828%, holding age and having children constant. \n",
    "- For a 1 unit increase in having children, we expect an increase of hospital charges by 14.2%, holding age and smoking constant. \n",
    "\n",
    "## Test Model "
   ]
  },
  {
   "cell_type": "code",
   "execution_count": null,
   "metadata": {},
   "outputs": [],
   "source": [
    "#Using test model now \n",
    "\n",
    "test_prediction = model.predict(X_test)\n",
    "\n",
    "#Test MSE on log scale \n",
    "print('Mean squared error on log scale =', mean_squared_error(y_test, test_prediction))\n",
    "print('Mean squared error on original scale =', np.exp(mean_squared_error(y_test, test_prediction)))"
   ]
  },
  {
   "cell_type": "markdown",
   "metadata": {},
   "source": [
    "We see that the MSE of our training model using the original scale, 1.55, is similar to the MSE of test model using the original scale, 1.47. Therefore, the model did not overfit. "
   ]
  },
  {
   "cell_type": "markdown",
   "metadata": {},
   "source": [
    "## Final Thoughts\n",
    "\n",
    "From our model, we saw that 75% of the variation of hospital charges was explained by the age, smoking, and having children. Additionally, we saw that we did not overfit our model. \n",
    "\n",
    "However, based on the shape of the residuals, we know that our model is underestimating values and is not accurately predicting what the hospital charges could be. \n",
    "\n",
    "Therefore, for future improvements we can choose a different combination of predictors, or make our predictors more complex in order to create a better model. \n",
    "\n",
    "By creating a better model that can predict hospital charges, we can better plan staff utilization and project potential profits and/or losses for various medicial facilities. "
   ]
  }
 ],
 "metadata": {
  "kernelspec": {
   "display_name": "Python 3 (ipykernel)",
   "language": "python",
   "name": "python3"
  },
  "language_info": {
   "codemirror_mode": {
    "name": "ipython",
    "version": 3
   },
   "file_extension": ".py",
   "mimetype": "text/x-python",
   "name": "python",
   "nbconvert_exporter": "python",
   "pygments_lexer": "ipython3",
   "version": "3.10.6"
  }
 },
 "nbformat": 4,
 "nbformat_minor": 4
}
